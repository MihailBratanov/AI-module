{
 "cells": [
  {
   "cell_type": "code",
   "execution_count": 1,
   "metadata": {},
   "outputs": [],
   "source": [
    "#pca algorithm from https://www.dominicswaine.com/code/ain/tutorial-6\n",
    "import matplotlib.pyplot as plt\n",
    "import numpy as np"
   ]
  },
  {
   "cell_type": "code",
   "execution_count": 2,
   "metadata": {},
   "outputs": [
    {
     "name": "stdout",
     "output_type": "stream",
     "text": [
      "(4, 3)\n"
     ]
    }
   ],
   "source": [
    "k=2\n",
    "X=np.array([\n",
    "    [4,2,3],\n",
    "    [6,1,3],\n",
    "    [4,2,5],\n",
    "    [7,8,3]\n",
    "])\n",
    "print(X.shape)"
   ]
  },
  {
   "cell_type": "code",
   "execution_count": 4,
   "metadata": {},
   "outputs": [
    {
     "name": "stdout",
     "output_type": "stream",
     "text": [
      "Step 1 (compute mean row vector)\n",
      "[[5.25 3.25 3.5 ]]\n"
     ]
    }
   ],
   "source": [
    "print(\"Step 1 (compute mean row vector)\")\n",
    "meanrow =np.zeros((1,X.shape[1]))\n",
    "for i in range(X.shape[1]):\n",
    "    meanrow[0,i]= sum(X[:,i]/X.shape[0])\n",
    "print(meanrow)\n"
   ]
  },
  {
   "cell_type": "code",
   "execution_count": 5,
   "metadata": {},
   "outputs": [
    {
     "name": "stdout",
     "output_type": "stream",
     "text": [
      "Step 2 (compute mean row matrix)\n",
      "[[5.25 3.25 3.5 ]\n",
      " [5.25 3.25 3.5 ]\n",
      " [5.25 3.25 3.5 ]\n",
      " [5.25 3.25 3.5 ]]\n"
     ]
    }
   ],
   "source": [
    "print(\"Step 2 (compute mean row matrix)\")\n",
    "meanrowmatrix=np.ones((X.shape[0],1))* meanrow\n",
    "print(meanrowmatrix)"
   ]
  },
  {
   "cell_type": "code",
   "execution_count": 6,
   "metadata": {},
   "outputs": [
    {
     "name": "stdout",
     "output_type": "stream",
     "text": [
      "Step 3 (substract mean)\n",
      "[[-1.25 -1.25 -0.5 ]\n",
      " [ 0.75 -2.25 -0.5 ]\n",
      " [-1.25 -1.25  1.5 ]\n",
      " [ 1.75  4.75 -0.5 ]]\n"
     ]
    }
   ],
   "source": [
    "print(\"Step 3 (substract mean)\")\n",
    "B= X-meanrowmatrix\n",
    "print(B)"
   ]
  },
  {
   "cell_type": "code",
   "execution_count": 7,
   "metadata": {},
   "outputs": [
    {
     "name": "stdout",
     "output_type": "stream",
     "text": [
      "Step 4 (compute covariance matrix of rows of B)\n",
      "[[ 6.75  9.75 -2.5 ]\n",
      " [ 9.75 30.75 -2.5 ]\n",
      " [-2.5  -2.5   3.  ]]\n"
     ]
    }
   ],
   "source": [
    "print(\"Step 4 (compute covariance matrix of rows of B)\")\n",
    "Cov=B.T.dot(B)\n",
    "print(Cov)"
   ]
  },
  {
   "cell_type": "code",
   "execution_count": 8,
   "metadata": {},
   "outputs": [
    {
     "name": "stdout",
     "output_type": "stream",
     "text": [
      "Step 5 (compute the k lagest eigenvectors)\n",
      "eigenVectors\n",
      "[[-0.33749161 -0.70668821  0.62184499]\n",
      " [-0.93589997  0.32274925 -0.14115302]\n",
      " [ 0.10094883  0.62962267  0.77031463]]\n",
      "eigenValues [34.53557041  4.52448037  1.43994922]\n",
      "Check if Av1=lambda1 v1:\n",
      "Av1 =[-11.6554651  -32.32183924   3.48632542]\n",
      "lambda1 v1=[-11.6554651  -32.32183924   3.48632542]\n",
      "Check if Av2=lambda2 v2:\n",
      "Av2 =[-3.19739691  1.46027263  2.84871541]\n",
      "lambda2 v2=[-3.19739691  1.46027263  2.84871541]\n"
     ]
    }
   ],
   "source": [
    "print(\"Step 5 (compute the k lagest eigenvectors)\")\n",
    "eigenValues,eigenVectors=np.linalg.eig(Cov)\n",
    "idx=eigenValues.argsort()[::-1]\n",
    "eigenValues=eigenValues[idx]\n",
    "eigenVectors=eigenVectors[:,idx]\n",
    "print(\"eigenVectors\")\n",
    "print(eigenVectors)\n",
    "print(\"eigenValues\",eigenValues)\n",
    "print(f'Check if Av1=lambda1 v1:\\nAv1 ={Cov.dot(eigenVectors[:,0])}\\nlambda1 v1={eigenValues[0]*eigenVectors[:,0]}')\n",
    "print(f'Check if Av2=lambda2 v2:\\nAv2 ={Cov.dot(eigenVectors[:,1])}\\nlambda2 v2={eigenValues[1]*eigenVectors[:,1]}')\n"
   ]
  },
  {
   "cell_type": "code",
   "execution_count": 9,
   "metadata": {},
   "outputs": [
    {
     "name": "stdout",
     "output_type": "stream",
     "text": [
      "Step 6 (compute W)\n",
      "[[-0.33749161 -0.70668821]\n",
      " [-0.93589997  0.32274925]\n",
      " [ 0.10094883  0.62962267]]\n"
     ]
    }
   ],
   "source": [
    "print(\"Step 6 (compute W)\")\n",
    "W=eigenVectors[:,0:k]\n",
    "print(W)\n"
   ]
  },
  {
   "cell_type": "code",
   "execution_count": 10,
   "metadata": {},
   "outputs": [
    {
     "name": "stdout",
     "output_type": "stream",
     "text": [
      "Step7 (project)\n",
      "transformed = 0   [-2.91891987 -0.29238632]\n",
      "transformed = 1   [-2.65800311 -2.02851198]\n",
      "transformed = 2   [-2.71702221  0.96685901]\n",
      "transformed = 3   [-9.54679449 -0.47595547]\n"
     ]
    }
   ],
   "source": [
    "print(\"Step7 (project)\")\n",
    "for i in range(X.shape[0]):\n",
    "    transformed= W.T.dot(X[ i, :])\n",
    "    print(\"transformed =\", i,\" \", transformed)\n"
   ]
  }
 ],
 "metadata": {
  "kernelspec": {
   "display_name": "Python 3",
   "language": "python",
   "name": "python3"
  },
  "language_info": {
   "codemirror_mode": {
    "name": "ipython",
    "version": 3
   },
   "file_extension": ".py",
   "mimetype": "text/x-python",
   "name": "python",
   "nbconvert_exporter": "python",
   "pygments_lexer": "ipython3",
   "version": "3.8.5"
  }
 },
 "nbformat": 4,
 "nbformat_minor": 4
}
